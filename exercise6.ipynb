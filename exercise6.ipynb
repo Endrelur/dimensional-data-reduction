{
 "cells": [
  {
   "cell_type": "markdown",
   "source": [
    "# Exercise 6 IDATT2502 - Endré Hadzalic\n",
    "\n",
    "## Tasks\n",
    "1. Using the [UCI mushroom dataset](https://archive.ics.uci.edu/ml/datasets/mushroom) from the last exercise, perform a feature selection using a classifier evaluator. Which features are most discriminitave?\n",
    "2. Use principal components analysis to construct a reduced space. Which combination of features explain the most variance in the dataset?\n",
    "3. Do you see any overlap between the PCA features and those obtained from feature selection?"
   ],
   "metadata": {}
  },
  {
   "cell_type": "markdown",
   "source": [
    "### During this analysis the Sequential Feature Selectior is compared to a Principal Component Analysis"
   ],
   "metadata": {}
  },
  {
   "cell_type": "markdown",
   "source": [
    "# 1:"
   ],
   "metadata": {}
  },
  {
   "cell_type": "code",
   "execution_count": 79,
   "source": [
    "import pandas as pd\n",
    "import numpy as np\n",
    "\n",
    "from sklearn.feature_selection import SequentialFeatureSelector\n",
    "from sklearn.neighbors import KNeighborsClassifier\n",
    "\n",
    "#change this variable to change the resulting \n",
    "#dimensions of the dataset after performing the different techniques\n",
    "NO_FEATURES_TO_SELECT = 10 \n",
    "\n",
    "#load the dataset\n",
    "df = pd.read_csv('agaricus-lepiota.data')\n",
    "\n",
    "# \"Dummify\" the categorical data\n",
    "dummied_df = pd.get_dummies(df)#.iloc[0:250] # <-changes amount of data points (rows in the dataset) for quicker testing\n",
    "\n",
    "knn = KNeighborsClassifier(n_neighbors = 3)\n",
    "sfs = SequentialFeatureSelector(knn,n_features_to_select = NO_FEATURES_TO_SELECT)\n",
    "\n",
    "# Chose y(target) as the edibility of the fungi, which means that \n",
    "# the features selected is the ones from the dataset that describe \n",
    "# the edibility the best. \n",
    "# The X(data) is the rest of the dataset except the edibility columns.\n",
    "y = dummied_df['edibility_e']\n",
    "X = dummied_df[dummied_df.columns.difference(['edibility_e','edibility_p'])]\n",
    "\n",
    "print(\"Original X.shape:\",X.shape)\n",
    "\n",
    "# Performs a sequential feature selection of the 10 most describing\n",
    "# features in the set. With K-neighbors as classifier\n",
    "new_X = sfs.fit_transform(X=X,y=y) \n",
    "print(\"New X.shape:     \",new_X.shape)\n",
    "\n",
    "fs_result_names = np.array(X.columns)[sorted(sfs.get_support(indices=True))]\n",
    "resultstring = \"\"\n",
    "for one in fs_result_names:\n",
    "    resultstring += one + \", \"\n",
    "\n",
    "print(\"\\nTop %s features selected with SFS: \\n\"%(NO_FEATURES_TO_SELECT)\n",
    ", resultstring)\n"
   ],
   "outputs": [
    {
     "output_type": "stream",
     "name": "stdout",
     "text": [
      "Original X.shape: (8124, 117)\n",
      "New X.shape:      (8124, 10)\n",
      "\n",
      "Top 10 features selected with SFS: \n",
      " bruises?_f, bruises?_t, gill-color_b, habitat_l, habitat_u, odor_c, odor_f, odor_m, spore-print-color_r, stalk-color-below-ring_y, \n"
     ]
    }
   ],
   "metadata": {}
  },
  {
   "cell_type": "markdown",
   "source": [
    "# 2:"
   ],
   "metadata": {}
  },
  {
   "cell_type": "code",
   "execution_count": 80,
   "source": [
    "from sklearn import decomposition\n",
    "\n",
    "pca = decomposition.PCA(n_components=NO_FEATURES_TO_SELECT)\n",
    "pca_X = pca.fit_transform(X=X,y=y)\n",
    "\n",
    "print(\"Original X.shape:\",X.shape)\n",
    "print(\"PCA X.shape:     \",pca_X.shape)\n",
    "\n",
    "# Extracts the index of each feature that describes the most in each component and puts \n",
    "# it in a sorted array.\n",
    "feature_indexes = sorted(np.argmax(pca.components_,axis=1))\n",
    "pca_result_names = [] #used in task 3\n",
    "resultstring = \"\"\n",
    "for i in feature_indexes :\n",
    "    pca_result_names.append(X.columns[i])\n",
    "    resultstring += X.columns[i] + \", \"\n",
    "\n",
    "print(\"\\nTop %s describing features selected with PCA: \\n\"%(NO_FEATURES_TO_SELECT)\n",
    ", resultstring)"
   ],
   "outputs": [
    {
     "output_type": "stream",
     "name": "stdout",
     "text": [
      "Original X.shape: (8124, 117)\n",
      "PCA X.shape:      (8124, 10)\n",
      "\n",
      "Top 10 describing features selected with PCA: \n",
      " bruises?_f, cap-color_n, cap-shape_f, cap-surface_f, cap-surface_s, habitat_g, odor_n, spore-print-color_h, spore-print-color_k, stalk-shape_t, \n"
     ]
    }
   ],
   "metadata": {}
  },
  {
   "cell_type": "markdown",
   "source": [
    "# 3:"
   ],
   "metadata": {}
  },
  {
   "cell_type": "code",
   "execution_count": 82,
   "source": [
    "# Takes the intersection between the results of the two strategies SFS and PCA\n",
    "features_in_common = [value for value in pca_result_names if value in fs_result_names]\n",
    "resultstring = \"\"\n",
    "for intersection in features_in_common :\n",
    "    resultstring += intersection + \", \"\n",
    "print(\"There was %s feature(s) in common \\nof a maximum of %s possible between SFS and PCA: \\n\"%(len(features_in_common),NO_FEATURES_TO_SELECT), resultstring)\n"
   ],
   "outputs": [
    {
     "output_type": "stream",
     "name": "stdout",
     "text": [
      "There was 1 feature(s) in common \n",
      "of a maximum of 10 possible between SFS and PCA: \n",
      " bruises?_f, \n"
     ]
    }
   ],
   "metadata": {}
  },
  {
   "cell_type": "markdown",
   "source": [
    "## Result\n",
    "\n",
    "We might not see the exact same resulting categories of features selected as most descriptive, but we se similarities in that the different categories belong to the same overall feature. EX odor_n and odor_f"
   ],
   "metadata": {}
  }
 ],
 "metadata": {
  "orig_nbformat": 4,
  "language_info": {
   "name": "python",
   "version": "3.8.10",
   "mimetype": "text/x-python",
   "codemirror_mode": {
    "name": "ipython",
    "version": 3
   },
   "pygments_lexer": "ipython3",
   "nbconvert_exporter": "python",
   "file_extension": ".py"
  },
  "kernelspec": {
   "name": "python3",
   "display_name": "Python 3.8.10 64-bit"
  },
  "interpreter": {
   "hash": "916dbcbb3f70747c44a77c7bcd40155683ae19c65e1c03b4aa3499c5328201f1"
  }
 },
 "nbformat": 4,
 "nbformat_minor": 2
}